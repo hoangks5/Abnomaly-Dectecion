{
 "cells": [
  {
   "cell_type": "code",
   "execution_count": 1,
   "metadata": {},
   "outputs": [
    {
     "name": "stderr",
     "output_type": "stream",
     "text": [
      "/var/folders/vq/lr9jr0w132n5fxzlgyfxgg3h0000gn/T/ipykernel_40838/460624034.py:2: FutureWarning: The squeeze argument has been deprecated and will be removed in a future version. Append .squeeze(\"columns\") to the call to squeeze.\n",
      "\n",
      "\n",
      "  s = pd.read_csv('./BTC_USD.csv', index_col=\"Date\", parse_dates=True, squeeze=True)\n"
     ]
    }
   ],
   "source": [
    "import pandas as pd\n",
    "s = pd.read_csv('./BTC_USD.csv', index_col=\"Date\", parse_dates=True, squeeze=True)\n",
    "from adtk.data import validate_series\n",
    "s = validate_series(s)"
   ]
  },
  {
   "cell_type": "code",
   "execution_count": 2,
   "metadata": {},
   "outputs": [],
   "source": [
    "\n",
    "from adtk.detector import ThresholdAD\n",
    "threshold_ad = ThresholdAD(high=50000, low=30000)\n",
    "anomalies = threshold_ad.detect(s)"
   ]
  },
  {
   "cell_type": "code",
   "execution_count": null,
   "metadata": {},
   "outputs": [],
   "source": [
    "from adtk.visualization import plot\n",
    "plot(s, anomaly=anomalies, ts_linewidth=1, ts_markersize=3, anomaly_markersize=5, anomaly_color='red', anomaly_tag=\"marker\");"
   ]
  }
 ],
 "metadata": {
  "kernelspec": {
   "display_name": "Python 3.10.5 64-bit",
   "language": "python",
   "name": "python3"
  },
  "language_info": {
   "codemirror_mode": {
    "name": "ipython",
    "version": 3
   },
   "file_extension": ".py",
   "mimetype": "text/x-python",
   "name": "python",
   "nbconvert_exporter": "python",
   "pygments_lexer": "ipython3",
   "version": "3.10.5"
  },
  "orig_nbformat": 4,
  "vscode": {
   "interpreter": {
    "hash": "aee8b7b246df8f9039afb4144a1f6fd8d2ca17a180786b69acc140d282b71a49"
   }
  }
 },
 "nbformat": 4,
 "nbformat_minor": 2
}
